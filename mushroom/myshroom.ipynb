{
 "cells": [
  {
   "cell_type": "code",
   "execution_count": 3,
   "metadata": {},
   "outputs": [],
   "source": [
    "'''使用的是kaggle的一个数据集：判断蘑菇是否有毒'''\n",
    "import numpy as np\n",
    "import pandas as pd\n",
    "import matplotlib.pyplot as plt\n",
    "from sklearn  import manifold,datasets\n",
    "from sklearn.preprocessing import LabelEncoder"
   ]
  },
  {
   "cell_type": "code",
   "execution_count": 7,
   "metadata": {},
   "outputs": [
    {
     "ename": "TypeError",
     "evalue": "t_SNE() missing 1 required positional argument: 'label'",
     "output_type": "error",
     "traceback": [
      "\u001b[1;31m---------------------------------------------------------------------------\u001b[0m",
      "\u001b[1;31mTypeError\u001b[0m                                 Traceback (most recent call last)",
      "\u001b[1;32m<ipython-input-7-d3c02fc66585>\u001b[0m in \u001b[0;36m<module>\u001b[1;34m\u001b[0m\n\u001b[0;32m     41\u001b[0m \u001b[1;32mif\u001b[0m \u001b[0m__name__\u001b[0m\u001b[1;33m==\u001b[0m\u001b[1;34m\"__main__\"\u001b[0m\u001b[1;33m:\u001b[0m\u001b[1;33m\u001b[0m\u001b[1;33m\u001b[0m\u001b[0m\n\u001b[0;32m     42\u001b[0m     \u001b[0mdata_x\u001b[0m\u001b[1;33m,\u001b[0m\u001b[0mlabel\u001b[0m\u001b[1;33m=\u001b[0m\u001b[0mdata_preprocessing\u001b[0m\u001b[1;33m(\u001b[0m\u001b[1;33m)\u001b[0m\u001b[1;33m\u001b[0m\u001b[1;33m\u001b[0m\u001b[0m\n\u001b[1;32m---> 43\u001b[1;33m     \u001b[0mts_data\u001b[0m\u001b[1;33m=\u001b[0m\u001b[0mt_SNE\u001b[0m\u001b[1;33m(\u001b[0m\u001b[0mdata_x\u001b[0m\u001b[1;33m)\u001b[0m\u001b[1;33m\u001b[0m\u001b[1;33m\u001b[0m\u001b[0m\n\u001b[0m\u001b[0;32m     44\u001b[0m     \u001b[0mmatplot\u001b[0m\u001b[1;33m(\u001b[0m\u001b[0mts_data\u001b[0m\u001b[1;33m)\u001b[0m\u001b[1;33m\u001b[0m\u001b[1;33m\u001b[0m\u001b[0m\n",
      "\u001b[1;31mTypeError\u001b[0m: t_SNE() missing 1 required positional argument: 'label'"
     ]
    }
   ],
   "source": [
    "#数据预处理\n",
    "def data_preprocessing():\n",
    "    df=pd.read_csv(\"mushrooms.csv\")\n",
    "    data=df.drop(columns=[\"class\"])  #删除列\n",
    "    label=df[\"class\"]\n",
    "    label=label.map({\"p\":1,\"e\":2})\n",
    "    data=data.values.tolist()\n",
    "    label=label.values.tolist()\n",
    "    #数据数值化\n",
    "    enc=LabelEncoder()   #获取一个LabelEncoder\n",
    "    for i in range(len(data)):\n",
    "        enc=enc.fit(data[i])  #训练LabelEncoder\n",
    "        data[i]=enc.transform(data[i]) #使用训练好的LabelEncoder对原数据进行编码\n",
    "\n",
    "    return data,label  #返回数据集、类别\n",
    "\n",
    "#数据降维\n",
    "def t_SNE(t_data):\n",
    "    #t-SNE降维\n",
    "    ts=manifold.TSNE(n_components=2,   #嵌入的维度（输出的维度）\n",
    "            learning_rate=200.0, #学习率  建议取值为10.0-1000.0\n",
    "            early_exaggeration=30, #该值越小，可视化后的间距越大\n",
    "            #method=\"exact\"\n",
    "            )\n",
    "    #训练数据\n",
    "    t_data=ts.fit_transform(t_data)  #生成x轴和y轴\n",
    "    #数据归一化\n",
    "    x_min,x_max=np.min(t_data,0),np.max(t_data,0)\n",
    "    t_data=(t_data-x_min)/(x_max-x_min)\n",
    "\n",
    "    return  t_data #返回降维后的数据\n",
    "\n",
    "#数据可视化\n",
    "def matplot(ts_data):\n",
    "    plt.figure(figsize=(10,10))  #创建画布\n",
    "    plt.title('t-SNE Curve', fontsize=14)  #设置标题和字体大小\n",
    "    for i in range(len(ts_data)):\n",
    "        plt.text(x=ts_data[i][0],y=ts_data[i,1],s=str(label[i]),color=plt.cm.Set1(label[i]),fontdict={'weight': 'bold', 'size': 9})  #绘制散点图\n",
    "    plt.show()  \n",
    "\n",
    "if __name__==\"__main__\":\n",
    "    data_x,label=data_preprocessing()\n",
    "    ts_data=t_SNE(data_x)\n",
    "    matplot(ts_data)"
   ]
  }
 ],
 "metadata": {
  "interpreter": {
   "hash": "7b4b4feff2f24a0f0a34464dbe537a36fda679851528fb8735cb41fa49dffb2d"
  },
  "kernelspec": {
   "display_name": "Python 3.7.6 64-bit ('base': conda)",
   "name": "python3"
  },
  "language_info": {
   "codemirror_mode": {
    "name": "ipython",
    "version": 3
   },
   "file_extension": ".py",
   "mimetype": "text/x-python",
   "name": "python",
   "nbconvert_exporter": "python",
   "pygments_lexer": "ipython3",
   "version": "3.7.6"
  },
  "orig_nbformat": 4
 },
 "nbformat": 4,
 "nbformat_minor": 2
}
